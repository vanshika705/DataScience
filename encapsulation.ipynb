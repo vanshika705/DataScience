{
 "cells": [
  {
   "cell_type": "markdown",
   "metadata": {},
   "source": [
    "### ENCAPSULATION"
   ]
  },
  {
   "cell_type": "code",
   "execution_count": 2,
   "metadata": {},
   "outputs": [],
   "source": [
    "class Manager:\n",
    "    def __init__(self):\n",
    "        # public \n",
    "        # self.manager_name=\"Dharmpal Singh\"\n",
    "        # self.manager_id=\"hello@gmail.com\"\n",
    "        # self.manager_pass=\"kumar@786\"\n",
    "        \n",
    "        # protected (_)\n",
    "        # self._manager_name=\"Dharmpal Singh\"\n",
    "        # self._manager_id=\"hello@gmail.com\"\n",
    "        # self._manager_pass=\"kumar@786\"\n",
    "        \n",
    "        # private (__)\n",
    "        self.__manager_name=\"Dharmpal Singh\"\n",
    "        self.__manager_id=\"hello@gmail.com\"\n",
    "        self.__manager_pass=\"kumar@786\"\n",
    "        \n",
    "        self.employee_name=\"Vanshika jangid\"\n",
    "        self.employee_id=\"vansh@gmail.com\"\n",
    "        self.employee_pass=\"jangid@786\"\n",
    "        print(\"Manager constructor executed .\")\n",
    "            \n",
    "    def Manager_hii(self):\n",
    "        print(self.manager_name)\n",
    "        print(self.manager_id)\n",
    "        print(self.manager_pass)\n",
    "        \n",
    "class Employee(Manager):\n",
    "    \n",
    "    def Employee_hii():\n",
    "        pass \n",
    "          \n",
    "            "
   ]
  },
  {
   "cell_type": "code",
   "execution_count": 18,
   "metadata": {},
   "outputs": [
    {
     "name": "stdout",
     "output_type": "stream",
     "text": [
      "Manager constructor executed .\n",
      "Manager constructor executed .\n"
     ]
    }
   ],
   "source": [
    "e_obj=Employee()\n",
    "m_obj=Manager()"
   ]
  },
  {
   "cell_type": "code",
   "execution_count": 6,
   "metadata": {},
   "outputs": [
    {
     "data": {
      "text/plain": [
       "'vansh@gmail.com'"
      ]
     },
     "execution_count": 6,
     "metadata": {},
     "output_type": "execute_result"
    }
   ],
   "source": [
    "e_obj.employee_id"
   ]
  },
  {
   "cell_type": "code",
   "execution_count": 9,
   "metadata": {},
   "outputs": [
    {
     "data": {
      "text/plain": [
       "'kumar@786'"
      ]
     },
     "execution_count": 9,
     "metadata": {},
     "output_type": "execute_result"
    }
   ],
   "source": [
    "e_obj.manager_pass  # drawback of inheritance ."
   ]
  },
  {
   "cell_type": "code",
   "execution_count": 10,
   "metadata": {},
   "outputs": [
    {
     "data": {
      "text/plain": [
       "{'manager_name': 'Dharmpal Singh',\n",
       " 'manager_id': 'hello@gmail.com',\n",
       " 'manager_pass': 'kumar@786',\n",
       " 'employee_name': 'Vanshika jangid',\n",
       " 'employee_id': 'vansh@gmail.com',\n",
       " 'employee_pass': 'jangid@786'}"
      ]
     },
     "execution_count": 10,
     "metadata": {},
     "output_type": "execute_result"
    }
   ],
   "source": [
    "e_obj.__dict__      # it gives dictionary for all the data members present with in the class "
   ]
  },
  {
   "cell_type": "code",
   "execution_count": 15,
   "metadata": {},
   "outputs": [
    {
     "data": {
      "text/plain": [
       "'Dharmpal Singh'"
      ]
     },
     "execution_count": 15,
     "metadata": {},
     "output_type": "execute_result"
    }
   ],
   "source": [
    "#  accessing protected members outside the class is possible \n",
    "m_obj._manager_name"
   ]
  },
  {
   "cell_type": "code",
   "execution_count": 16,
   "metadata": {},
   "outputs": [
    {
     "data": {
      "text/plain": [
       "'jangid@786'"
      ]
     },
     "execution_count": 16,
     "metadata": {},
     "output_type": "execute_result"
    }
   ],
   "source": [
    "#  accessing protected members by subclass object\n",
    "e_obj.employee_pass"
   ]
  },
  {
   "cell_type": "code",
   "execution_count": 25,
   "metadata": {},
   "outputs": [
    {
     "name": "stdout",
     "output_type": "stream",
     "text": [
      " It can not access not even with its class object .\n"
     ]
    }
   ],
   "source": [
    "#  accessing private members with class object\n",
    "try:\n",
    "    m_obj.__manager_name\n",
    "except:\n",
    "    print(\" It can not access not even with its class object .\") "
   ]
  },
  {
   "cell_type": "code",
   "execution_count": 26,
   "metadata": {},
   "outputs": [
    {
     "name": "stdout",
     "output_type": "stream",
     "text": [
      " It can not access. \n"
     ]
    }
   ],
   "source": [
    "#  accessing private members with subclass object\n",
    "try:\n",
    "    e_obj.__manager_name\n",
    "except:\n",
    "    print(\" It can not access. \") "
   ]
  },
  {
   "cell_type": "code",
   "execution_count": 27,
   "metadata": {},
   "outputs": [
    {
     "data": {
      "text/plain": [
       "{'_Manager__manager_name': 'Dharmpal Singh',\n",
       " '_Manager__manager_id': 'hello@gmail.com',\n",
       " '_Manager__manager_pass': 'kumar@786',\n",
       " 'employee_name': 'Vanshika jangid',\n",
       " 'employee_id': 'vansh@gmail.com',\n",
       " 'employee_pass': 'jangid@786'}"
      ]
     },
     "execution_count": 27,
     "metadata": {},
     "output_type": "execute_result"
    }
   ],
   "source": [
    "m_obj.__dict__"
   ]
  },
  {
   "cell_type": "code",
   "execution_count": 28,
   "metadata": {},
   "outputs": [
    {
     "data": {
      "text/plain": [
       "'kumar@786'"
      ]
     },
     "execution_count": 28,
     "metadata": {},
     "output_type": "execute_result"
    }
   ],
   "source": [
    "# name mangling can access private members\n",
    "m_obj._Manager__manager_pass             "
   ]
  },
  {
   "cell_type": "code",
   "execution_count": 29,
   "metadata": {},
   "outputs": [
    {
     "data": {
      "text/plain": [
       "'kumar@786'"
      ]
     },
     "execution_count": 29,
     "metadata": {},
     "output_type": "execute_result"
    }
   ],
   "source": [
    "e_obj._Manager__manager_pass"
   ]
  },
  {
   "cell_type": "code",
   "execution_count": 3,
   "metadata": {},
   "outputs": [
    {
     "data": {
      "text/plain": [
       "[__main__.Employee, __main__.Manager, object]"
      ]
     },
     "execution_count": 3,
     "metadata": {},
     "output_type": "execute_result"
    }
   ],
   "source": [
    "Employee.mro()    # method resolution order"
   ]
  },
  {
   "cell_type": "code",
   "execution_count": null,
   "metadata": {},
   "outputs": [],
   "source": [
    "# Types of  variable :-\n",
    "# private variable\n",
    "# protected variable\n",
    "# public variable\n",
    "# By default , variable is public. It is accessable outside the class without any restriction .\n",
    "# In python, protected variable can be access anywhere no need for subclass . It is accessable outside the class without any restriction .\n",
    "# private members can only be access within the class .\n",
    "# private members are not showed in suggestion."
   ]
  },
  {
   "cell_type": "markdown",
   "metadata": {},
   "source": [
    "## ABSTRACTION"
   ]
  },
  {
   "cell_type": "code",
   "execution_count": 11,
   "metadata": {},
   "outputs": [],
   "source": [
    "from abc import ABC,abstractmethod\n",
    "# abstarct class (ABC)\n",
    "class Manager(ABC):              # (object) is optional , object is a subclass of superclass\n",
    "                                 \n",
    "    @abstractmethod\n",
    "    def display(self):...           #   ... is equal to pass keyword \n",
    "    \n",
    "class Employee(Manager):\n",
    "    def display(self): \n",
    "        print(\"Hii, i am extracted method !\")      \n",
    "\n",
    "    "
   ]
  },
  {
   "cell_type": "code",
   "execution_count": 12,
   "metadata": {},
   "outputs": [
    {
     "name": "stdout",
     "output_type": "stream",
     "text": [
      "Hii, i am extracted method !\n"
     ]
    }
   ],
   "source": [
    "e_obj=Employee()             # abstract class can not be instantiated \n",
    "e_obj.display()"
   ]
  },
  {
   "cell_type": "markdown",
   "metadata": {},
   "source": [
    "### POLYMORPHISM  ( many forms )"
   ]
  },
  {
   "cell_type": "code",
   "execution_count": 13,
   "metadata": {},
   "outputs": [],
   "source": [
    "a=\"vanshika\"\n",
    "b=[23,464,678,34,45]\n",
    "c=(344,56,45,78,4,5,5654)"
   ]
  },
  {
   "cell_type": "code",
   "execution_count": 14,
   "metadata": {},
   "outputs": [
    {
     "data": {
      "text/plain": [
       "8"
      ]
     },
     "execution_count": 14,
     "metadata": {},
     "output_type": "execute_result"
    }
   ],
   "source": [
    "len(a)"
   ]
  },
  {
   "cell_type": "code",
   "execution_count": 15,
   "metadata": {},
   "outputs": [
    {
     "data": {
      "text/plain": [
       "5"
      ]
     },
     "execution_count": 15,
     "metadata": {},
     "output_type": "execute_result"
    }
   ],
   "source": [
    "len(b)"
   ]
  },
  {
   "cell_type": "code",
   "execution_count": 16,
   "metadata": {},
   "outputs": [
    {
     "data": {
      "text/plain": [
       "7"
      ]
     },
     "execution_count": 16,
     "metadata": {},
     "output_type": "execute_result"
    }
   ],
   "source": [
    "len(c)"
   ]
  },
  {
   "cell_type": "code",
   "execution_count": null,
   "metadata": {},
   "outputs": [],
   "source": [
    "# email sender program \n",
    "# smartengineer0786@gmail.com\n",
    "# name , college , branch "
   ]
  }
 ],
 "metadata": {
  "kernelspec": {
   "display_name": "Python 3",
   "language": "python",
   "name": "python3"
  },
  "language_info": {
   "codemirror_mode": {
    "name": "ipython",
    "version": 3
   },
   "file_extension": ".py",
   "mimetype": "text/x-python",
   "name": "python",
   "nbconvert_exporter": "python",
   "pygments_lexer": "ipython3",
   "version": "3.12.4"
  }
 },
 "nbformat": 4,
 "nbformat_minor": 2
}
