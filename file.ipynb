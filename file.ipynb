{
 "cells": [
  {
   "cell_type": "markdown",
   "metadata": {},
   "source": [
    "### FILE HANDLING"
   ]
  },
  {
   "cell_type": "code",
   "execution_count": 2,
   "metadata": {},
   "outputs": [
    {
     "name": "stdout",
     "output_type": "stream",
     "text": [
      "Hello we are from upflairs.\n",
      "\n"
     ]
    }
   ],
   "source": [
    "file=open(\"demo.txt\",\"r\")\n",
    "data = file.read()\n",
    "print(data)\n",
    "file.close()\n"
   ]
  },
  {
   "cell_type": "code",
   "execution_count": 4,
   "metadata": {},
   "outputs": [
    {
     "data": {
      "text/plain": [
       "['.vscode',\n",
       " 'A.py',\n",
       " 'abstraction.py',\n",
       " 'assignment',\n",
       " 'atm.py',\n",
       " 'B.py',\n",
       " 'day2.py',\n",
       " 'day3.py',\n",
       " 'day4.py',\n",
       " 'day5.py',\n",
       " 'day6.py',\n",
       " 'day7.py',\n",
       " 'Delhi_TOP.csv',\n",
       " 'delhi_top_10',\n",
       " 'demo.txt',\n",
       " 'demo2.txt',\n",
       " 'demo3.txt',\n",
       " 'demo4.txt',\n",
       " 'email.py',\n",
       " 'encapsulation.ipynb',\n",
       " 'file.ipynb',\n",
       " 'file_handling.ipynb',\n",
       " 'first.py',\n",
       " 'logic.py',\n",
       " 'Machine Learning',\n",
       " 'matplotlib.ipynb',\n",
       " 'My_Pie_Plot.png',\n",
       " 'numpy.ipynb',\n",
       " 'opp.ipynb',\n",
       " 'pandas.ipynb',\n",
       " 'practice.ipynb',\n",
       " 'practice.py',\n",
       " 'practice1.ipynb',\n",
       " 'quiz1.py',\n",
       " 'quiz2.py',\n",
       " 'quiz4.ipynb',\n",
       " 'seaborn.ipynb',\n",
       " 'shalu',\n",
       " 'solve.py',\n",
       " 'sort.py',\n",
       " 'Used_Bikes.csv',\n",
       " '__pycache__']"
      ]
     },
     "execution_count": 4,
     "metadata": {},
     "output_type": "execute_result"
    }
   ],
   "source": [
    "import os\n",
    "os.listdir()"
   ]
  },
  {
   "cell_type": "code",
   "execution_count": 32,
   "metadata": {},
   "outputs": [],
   "source": [
    "os.mkdir(\"shalu\")"
   ]
  },
  {
   "cell_type": "code",
   "execution_count": 11,
   "metadata": {},
   "outputs": [],
   "source": [
    "os.rmdir(\"shalu\")"
   ]
  },
  {
   "cell_type": "code",
   "execution_count": 10,
   "metadata": {},
   "outputs": [],
   "source": [
    "os.makedirs(\"shalu\",exist_ok=True)"
   ]
  },
  {
   "cell_type": "code",
   "execution_count": 14,
   "metadata": {},
   "outputs": [
    {
     "name": "stdout",
     "output_type": "stream",
     "text": [
      "Hello we a\n",
      "re from up\n",
      "flairs.\n",
      "\n"
     ]
    }
   ],
   "source": [
    "file= open(\"demo.txt\",\"r\")\n",
    "print(file.read(10))\n",
    "print(file.read(10))\n",
    "print(file.read(10))"
   ]
  },
  {
   "cell_type": "code",
   "execution_count": 15,
   "metadata": {},
   "outputs": [],
   "source": [
    "file = open(\"demo2.txt\",\"w\")\n",
    "file.write(\"I am doing file handling\")\n",
    "file.close()"
   ]
  },
  {
   "cell_type": "code",
   "execution_count": 16,
   "metadata": {},
   "outputs": [
    {
     "name": "stdout",
     "output_type": "stream",
     "text": [
      "I am doing file handling\n"
     ]
    }
   ],
   "source": [
    "file = open(\"demo2.txt\",\"r\")\n",
    "print(file.read())"
   ]
  },
  {
   "cell_type": "code",
   "execution_count": 19,
   "metadata": {},
   "outputs": [],
   "source": [
    "file = open(\"demo2.txt\",\"a\")\n",
    "for i in range(0,10):\n",
    "    file.write(\"\\nhello i am a btech student\")\n",
    "file.close()    "
   ]
  },
  {
   "cell_type": "code",
   "execution_count": 21,
   "metadata": {},
   "outputs": [
    {
     "name": "stdout",
     "output_type": "stream",
     "text": [
      "I am doing file handling\n",
      "hello i am a btech student\n",
      "hello i am a btech student\n",
      "hello i am a btech student\n",
      "hello i am a btech student\n",
      "hello i am a btech student\n",
      "hello i am a btech student\n",
      "hello i am a btech student\n",
      "hello i am a btech student\n",
      "hello i am a btech student\n",
      "hello i am a btech student\n"
     ]
    }
   ],
   "source": [
    "file = open(\"demo2.txt\",\"r\")\n",
    "print(file.read())"
   ]
  },
  {
   "cell_type": "code",
   "execution_count": 26,
   "metadata": {},
   "outputs": [
    {
     "name": "stdout",
     "output_type": "stream",
     "text": [
      "upflairs \n",
      "upflairs \n",
      "upflairs \n",
      "upflairs \n",
      "upflairs \n",
      "upflairs \n",
      "upflairs \n",
      "upflairs \n",
      "upflairs \n",
      "upflairs \n",
      "upflairs \n",
      "upflairs \n",
      "upflairs \n",
      "upflairs \n",
      "upflairs \n",
      "upflairs \n",
      "upflairs \n",
      "upflairs \n",
      "upflairs \n",
      "upflairs \n",
      "upflairs \n",
      "upflairs \n",
      "upflairs \n",
      "upflairs \n",
      "upflairs \n",
      "upflairs \n",
      "upflairs \n",
      "upflairs \n",
      "upflairs \n",
      "upflairs \n",
      "upflairs \n",
      "upflairs \n",
      "upflairs \n",
      "upflairs \n",
      "upflairs \n",
      "upflairs \n",
      "upflairs \n",
      "upflairs \n",
      "upflairs \n",
      "upflairs \n",
      "upflairs \n",
      "upflairs \n",
      "upflairs \n",
      "upflairs \n",
      "upflairs \n",
      "upflairs \n",
      "upflairs \n",
      "upflairs \n",
      "upflairs \n",
      "upflairs \n",
      "upflairs \n",
      "upflairs \n",
      "upflairs \n",
      "upflairs \n",
      "upflairs \n",
      "upflairs \n",
      "upflairs \n",
      "upflairs \n",
      "upflairs \n",
      "upflairs \n",
      "upflairs \n",
      "upflairs \n",
      "upflairs \n",
      "upflairs \n",
      "upflairs \n",
      "upflairs \n",
      "upflairs \n",
      "upflairs \n",
      "upflairs \n",
      "upflairs \n",
      "upflairs \n",
      "upflairs \n",
      "upflairs \n",
      "upflairs \n",
      "upflairs \n",
      "upflairs \n",
      "upflairs \n",
      "upflairs \n",
      "upflairs \n",
      "upflairs \n",
      "upflairs \n",
      "upflairs \n",
      "upflairs \n",
      "upflairs \n",
      "upflairs \n",
      "upflairs \n",
      "upflairs \n",
      "upflairs \n",
      "upflairs \n",
      "upflairs \n",
      "upflairs \n",
      "upflairs \n",
      "upflairs \n",
      "upflairs \n",
      "upflairs \n",
      "upflairs \n",
      "upflairs \n",
      "upflairs \n",
      "upflairs \n",
      "upflairs \n"
     ]
    }
   ],
   "source": [
    "with open(\"demo4.txt\",\"r\") as file:\n",
    "    print(file.read())"
   ]
  },
  {
   "cell_type": "code",
   "execution_count": 30,
   "metadata": {},
   "outputs": [
    {
     "name": "stdout",
     "output_type": "stream",
     "text": [
      "['upflairs \\n', 'upflairs \\n', 'upflairs \\n', 'upflairs \\n', 'upflairs \\n', 'upflairs \\n', 'upflairs \\n', 'upflairs \\n', 'upflairs \\n', 'upflairs \\n', 'upflairs \\n', 'upflairs \\n', 'upflairs \\n', 'upflairs \\n', 'upflairs \\n', 'upflairs \\n', 'upflairs \\n', 'upflairs \\n', 'upflairs \\n', 'upflairs \\n', 'upflairs \\n', 'upflairs \\n', 'upflairs \\n', 'upflairs \\n', 'upflairs \\n', 'upflairs \\n', 'upflairs \\n', 'upflairs \\n', 'upflairs \\n', 'upflairs \\n', 'upflairs \\n', 'upflairs \\n', 'upflairs \\n', 'upflairs \\n', 'upflairs \\n', 'upflairs \\n', 'upflairs \\n', 'upflairs \\n', 'upflairs \\n', 'upflairs \\n', 'upflairs \\n', 'upflairs \\n', 'upflairs \\n', 'upflairs \\n', 'upflairs \\n', 'upflairs \\n', 'upflairs \\n', 'upflairs \\n', 'upflairs \\n', 'upflairs \\n', 'upflairs \\n', 'upflairs \\n', 'upflairs \\n', 'upflairs \\n', 'upflairs \\n', 'upflairs \\n', 'upflairs \\n', 'upflairs \\n', 'upflairs \\n', 'upflairs \\n', 'upflairs \\n', 'upflairs \\n', 'upflairs \\n', 'upflairs \\n', 'upflairs \\n', 'upflairs \\n', 'upflairs \\n', 'upflairs \\n', 'upflairs \\n', 'upflairs \\n', 'upflairs \\n', 'upflairs \\n', 'upflairs \\n', 'upflairs \\n', 'upflairs \\n', 'upflairs \\n', 'upflairs \\n', 'upflairs \\n', 'upflairs \\n', 'upflairs \\n', 'upflairs \\n', 'upflairs \\n', 'upflairs \\n', 'upflairs \\n', 'upflairs \\n', 'upflairs \\n', 'upflairs \\n', 'upflairs \\n', 'upflairs \\n', 'upflairs \\n', 'upflairs \\n', 'upflairs \\n', 'upflairs \\n', 'upflairs \\n', 'upflairs \\n', 'upflairs \\n', 'upflairs \\n', 'upflairs \\n', 'upflairs \\n', 'upflairs ']\n",
      "100\n"
     ]
    }
   ],
   "source": [
    "with open(\"demo4.txt\",\"r\") as file:\n",
    "    content= (file.readlines())\n",
    "    print((content))\n",
    "    print(len(content))"
   ]
  },
  {
   "cell_type": "code",
   "execution_count": 48,
   "metadata": {},
   "outputs": [
    {
     "data": {
      "text/plain": [
       "'c:\\\\Users\\\\hp\\\\Desktop\\\\data_science'"
      ]
     },
     "execution_count": 48,
     "metadata": {},
     "output_type": "execute_result"
    }
   ],
   "source": [
    "pwd"
   ]
  },
  {
   "cell_type": "code",
   "execution_count": 53,
   "metadata": {},
   "outputs": [],
   "source": [
    "os.chdir(r\"c:\\\\Users\\\\hp\\\\Desktop\\\\data_science\")"
   ]
  },
  {
   "cell_type": "code",
   "execution_count": 55,
   "metadata": {},
   "outputs": [
    {
     "data": {
      "text/plain": [
       "'c:\\\\Users\\\\hp\\\\Desktop\\\\data_science'"
      ]
     },
     "execution_count": 55,
     "metadata": {},
     "output_type": "execute_result"
    }
   ],
   "source": [
    "os.getcwd()"
   ]
  },
  {
   "cell_type": "code",
   "execution_count": 46,
   "metadata": {},
   "outputs": [
    {
     "data": {
      "text/plain": [
       "[]"
      ]
     },
     "execution_count": 46,
     "metadata": {},
     "output_type": "execute_result"
    }
   ],
   "source": [
    "os.listdir()"
   ]
  },
  {
   "cell_type": "code",
   "execution_count": 56,
   "metadata": {},
   "outputs": [
    {
     "data": {
      "text/plain": [
       "True"
      ]
     },
     "execution_count": 56,
     "metadata": {},
     "output_type": "execute_result"
    }
   ],
   "source": [
    "os.path.exists(\"shalu\")"
   ]
  },
  {
   "cell_type": "code",
   "execution_count": 58,
   "metadata": {},
   "outputs": [
    {
     "name": "stdout",
     "output_type": "stream",
     "text": [
      "present\n"
     ]
    }
   ],
   "source": [
    "if os.path.exists(\"vansh\"):\n",
    "    print(\"present\")\n",
    "else:\n",
    "    os.mkdir(\"vansh\")    "
   ]
  },
  {
   "cell_type": "code",
   "execution_count": 60,
   "metadata": {},
   "outputs": [
    {
     "name": "stderr",
     "output_type": "stream",
     "text": [
      "<>:1: SyntaxWarning: invalid escape sequence '\\c'\n",
      "<>:1: SyntaxWarning: invalid escape sequence '\\c'\n",
      "C:\\Users\\hp\\AppData\\Local\\Temp\\ipykernel_24068\\3324697965.py:1: SyntaxWarning: invalid escape sequence '\\c'\n",
      "  path1=\"D:\\coding\\Data Scientist\"\n"
     ]
    },
    {
     "data": {
      "text/plain": [
       "'D:\\\\coding\\\\Data Scientist\\\\datasets'"
      ]
     },
     "execution_count": 60,
     "metadata": {},
     "output_type": "execute_result"
    }
   ],
   "source": [
    "path1=\"D:\\coding\\Data Scientist\"\n",
    "path2=\"datasets\"\n",
    "complete_path1=path1+\"\\\\\"+path2\n",
    "complete_path1\n",
    "complete_path2=os.path.join(path1,path2)\n",
    "complete_path2\n"
   ]
  },
  {
   "cell_type": "code",
   "execution_count": 61,
   "metadata": {},
   "outputs": [
    {
     "name": "stdout",
     "output_type": "stream",
     "text": [
      "text file\n"
     ]
    }
   ],
   "source": [
    "a = \"demo.txt\"\n",
    "if a.split(\".\")[1]==\"txt\":\n",
    "    print(\"text file\")"
   ]
  },
  {
   "cell_type": "code",
   "execution_count": 62,
   "metadata": {},
   "outputs": [
    {
     "name": "stdout",
     "output_type": "stream",
     "text": [
      "text file\n"
     ]
    }
   ],
   "source": [
    "a = \"demo.txt\"\n",
    "if a.endswith(\".txt\"):\n",
    "    print(\"text file\")"
   ]
  },
  {
   "cell_type": "markdown",
   "metadata": {},
   "source": [
    "### OBJECT OREINTED PROGRAMMING"
   ]
  },
  {
   "cell_type": "code",
   "execution_count": 27,
   "metadata": {},
   "outputs": [],
   "source": [
    "class Student:\n",
    "    name=\"vanshika\"\n",
    "    \n",
    "    def __init__(self):\n",
    "        self.student_name=\"shalu\"\n",
    "        self.branch=\"cse\"\n",
    "        self.college=\"gweca\"\n",
    "        \n",
    "    def __init__(self,name,student_branch,student_college ):\n",
    "        self.student_name=name\n",
    "        self.branch= student_branch\n",
    "        self.college=student_college  \n",
    "        print(name,student_branch,student_college,self.name)\n",
    "    \n",
    "    @ classmethod    \n",
    "    def display(cls):\n",
    "        print(cls.name)  \n",
    "        \n",
    "        \n",
    "        \n",
    "        "
   ]
  },
  {
   "cell_type": "code",
   "execution_count": 28,
   "metadata": {},
   "outputs": [
    {
     "name": "stdout",
     "output_type": "stream",
     "text": [
      "vansh aiml iit vanshika\n"
     ]
    }
   ],
   "source": [
    "obj=Student(\"vansh\",\"aiml\",\"iit\")"
   ]
  },
  {
   "cell_type": "code",
   "execution_count": 16,
   "metadata": {},
   "outputs": [
    {
     "name": "stdout",
     "output_type": "stream",
     "text": [
      "vanshika\n"
     ]
    }
   ],
   "source": [
    "Student.display()"
   ]
  },
  {
   "cell_type": "code",
   "execution_count": 19,
   "metadata": {},
   "outputs": [
    {
     "name": "stdout",
     "output_type": "stream",
     "text": [
      "vanshika\n"
     ]
    }
   ],
   "source": [
    "obj.display()"
   ]
  },
  {
   "cell_type": "code",
   "execution_count": 7,
   "metadata": {},
   "outputs": [],
   "source": [
    "class Employee:\n",
    "    employee_name=\"vanshika\"\n",
    "    \n",
    "    def __init__(self,name,dept,sal):\n",
    "        self.emp_name=name\n",
    "        self.emp_salary=sal\n",
    "        self.emp_department=dept\n",
    "        \n",
    "    def show(self):\n",
    "        print(self.emp_name,self.emp_salary,self.emp_department)    \n",
    "        "
   ]
  },
  {
   "cell_type": "code",
   "execution_count": 10,
   "metadata": {},
   "outputs": [
    {
     "name": "stdout",
     "output_type": "stream",
     "text": [
      "shalu programming 50000\n"
     ]
    }
   ],
   "source": [
    "obj=Employee(\"shalu\",50000,\"programming\")\n",
    "obj.show()"
   ]
  },
  {
   "cell_type": "code",
   "execution_count": 11,
   "metadata": {},
   "outputs": [
    {
     "name": "stdout",
     "output_type": "stream",
     "text": [
      "ankit programming 50000\n"
     ]
    }
   ],
   "source": [
    "obj.emp_name=\"ankit\"\n",
    "obj.show()"
   ]
  },
  {
   "cell_type": "code",
   "execution_count": 20,
   "metadata": {},
   "outputs": [],
   "source": [
    "class Patient:\n",
    "    @staticmethod\n",
    "    def display2():\n",
    "        print(\"I am sick\")\n",
    "    "
   ]
  },
  {
   "cell_type": "code",
   "execution_count": 21,
   "metadata": {},
   "outputs": [
    {
     "name": "stdout",
     "output_type": "stream",
     "text": [
      "I am sick\n"
     ]
    }
   ],
   "source": [
    "Patient.display2()"
   ]
  },
  {
   "cell_type": "code",
   "execution_count": 22,
   "metadata": {},
   "outputs": [],
   "source": [
    "class Father:\n",
    "    def __init__(self,eyes,height):\n",
    "        self.father_eyes=eyes\n",
    "        self.father_height=height\n",
    "    def Father_hii(self):\n",
    "        print(self.father_eyes,self.father_height)\n",
    "        \n",
    "class Son(Father):\n",
    "    def __init__(self,name,age,eyes,height):\n",
    "        self.son_name=name\n",
    "        self.son_age=age\n",
    "        super().__init__(eyes,height)\n",
    "    def Son_hii(self):\n",
    "        print(self.son_name,self.son_age)           "
   ]
  },
  {
   "cell_type": "code",
   "execution_count": 24,
   "metadata": {},
   "outputs": [
    {
     "name": "stdout",
     "output_type": "stream",
     "text": [
      "black 6\n"
     ]
    }
   ],
   "source": [
    "f_obj=Father(\"black\",6)\n",
    "f_obj.Father_hii()"
   ]
  },
  {
   "cell_type": "code",
   "execution_count": 26,
   "metadata": {},
   "outputs": [
    {
     "name": "stdout",
     "output_type": "stream",
     "text": [
      "brown 7\n",
      "vansh 21\n"
     ]
    }
   ],
   "source": [
    "s_obj=Son(\"vansh\",21,\"brown\",7)\n",
    "s_obj.Father_hii()\n",
    "s_obj.Son_hii()"
   ]
  },
  {
   "cell_type": "code",
   "execution_count": 12,
   "metadata": {},
   "outputs": [],
   "source": [
    "class Manager:\n",
    "    def __init__ (self):\n",
    "        self.manager_name=\"Dharmpal Singh\"\n",
    "        self.manager_id=\"hello@gmail.com\"\n",
    "        self.manager_pass=\"kumar@786\"\n",
    "        \n",
    "        self.employee_name=\"Vanshika jangid\"\n",
    "        self.employee_id=\"vansh@gmail.com\"\n",
    "        self.employee_pass=\"jangid@786\"\n",
    "        \n",
    "    def Manager_hii(self):\n",
    "        print(self.manager_name)\n",
    "        print(self.manager_id)\n",
    "        print(self.manager_pass)\n",
    "        \n",
    "class Employee(Manager):\n",
    "    def Employee_hii():\n",
    "        pass"
   ]
  },
  {
   "cell_type": "code",
   "execution_count": 13,
   "metadata": {},
   "outputs": [],
   "source": [
    "e_obj=Employee()\n",
    "m_obj=Manager()"
   ]
  },
  {
   "cell_type": "code",
   "execution_count": 14,
   "metadata": {},
   "outputs": [
    {
     "name": "stdout",
     "output_type": "stream",
     "text": [
      "Dharmpal Singh\n",
      "hello@gmail.com\n",
      "kumar@786\n"
     ]
    }
   ],
   "source": [
    "e_obj.Manager_hii()"
   ]
  },
  {
   "cell_type": "code",
   "execution_count": 10,
   "metadata": {},
   "outputs": [
    {
     "data": {
      "text/plain": [
       "'kumar@786'"
      ]
     },
     "execution_count": 10,
     "metadata": {},
     "output_type": "execute_result"
    }
   ],
   "source": [
    "m_obj._Manager__manager_pass"
   ]
  },
  {
   "cell_type": "code",
   "execution_count": null,
   "metadata": {},
   "outputs": [],
   "source": [
    "m_obj._manager_id"
   ]
  },
  {
   "cell_type": "code",
   "execution_count": 15,
   "metadata": {},
   "outputs": [
    {
     "data": {
      "text/plain": [
       "[__main__.Employee, __main__.Manager, object]"
      ]
     },
     "execution_count": 15,
     "metadata": {},
     "output_type": "execute_result"
    }
   ],
   "source": [
    "Employee.mro()"
   ]
  },
  {
   "cell_type": "code",
   "execution_count": 16,
   "metadata": {},
   "outputs": [],
   "source": [
    "from abc import ABC, abstractmethod\n",
    "class Manager(ABC):\n",
    "    @ abstractmethod\n",
    "    def display(self):...\n",
    "    \n",
    "class Employee(Manager):\n",
    "    def display(self):\n",
    "        print(\"hii\")"
   ]
  },
  {
   "cell_type": "code",
   "execution_count": 17,
   "metadata": {},
   "outputs": [
    {
     "name": "stdout",
     "output_type": "stream",
     "text": [
      "hii\n"
     ]
    }
   ],
   "source": [
    "e_obj=Employee()\n",
    "e_obj.display()"
   ]
  }
 ],
 "metadata": {
  "kernelspec": {
   "display_name": "Python 3",
   "language": "python",
   "name": "python3"
  },
  "language_info": {
   "codemirror_mode": {
    "name": "ipython",
    "version": 3
   },
   "file_extension": ".py",
   "mimetype": "text/x-python",
   "name": "python",
   "nbconvert_exporter": "python",
   "pygments_lexer": "ipython3",
   "version": "3.12.4"
  }
 },
 "nbformat": 4,
 "nbformat_minor": 2
}
