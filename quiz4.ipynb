{
 "cells": [
  {
   "cell_type": "code",
   "execution_count": 2,
   "metadata": {},
   "outputs": [],
   "source": [
    "# MAKING FOLDER\n",
    "import os\n",
    "os.mkdir(\"assignment\")\n",
    "\n"
   ]
  },
  {
   "cell_type": "code",
   "execution_count": 13,
   "metadata": {},
   "outputs": [],
   "source": [
    "# CREATING FILE IN FOLDER\n",
    "import os\n",
    "folder_path=r\"C:\\Users\\hp\\Desktop\\data_science\\assignment\"\n",
    "file_name=\"quiz.py\"\n",
    "file_path=os.path.join(folder_path,file_name)\n",
    "file= open(file_path,\"x\") \n",
    "  \n",
    "    "
   ]
  },
  {
   "cell_type": "code",
   "execution_count": 15,
   "metadata": {},
   "outputs": [],
   "source": [
    "# CREATING FOLDER IN FOLDER \n",
    "import os\n",
    "folder_path=r\"C:\\Users\\hp\\Desktop\\data_science\\assignment\"\n",
    "folder_name=\"data\"\n",
    "folder_path=os.path.join(folder_path,folder_name)\n",
    "os.mkdir(\"data\") \n",
    "  \n",
    "    \n",
    "\n",
    "\n"
   ]
  },
  {
   "cell_type": "code",
   "execution_count": 22,
   "metadata": {},
   "outputs": [],
   "source": [
    "# creating multiple files in a folder\n",
    "import os\n",
    "folder_path=r\"C:\\Users\\hp\\Desktop\\data_science\\data\"\n",
    "file_names=[\"demo5.txt\",\"hello.txt\",\"image1.png\",\"image2.speg\",\"image3.jpg\",\"demo6.pdf\"]\n",
    "for file_name in file_names:\n",
    "        file_path=os.path.join(folder_path,file_name)\n",
    "        file= open(file_path,\"x\") \n"
   ]
  },
  {
   "cell_type": "code",
   "execution_count": 36,
   "metadata": {},
   "outputs": [],
   "source": [
    "# CREATING FOLDER IN FOLDER \n",
    "import os\n",
    "folder_path=r\"C:\\Users\\hp\\Desktop\\data_science\\assignment\"\n",
    "folder_names=[\"image\",\"pdf\",\"text\"]\n",
    "for folder_name in folder_names:\n",
    "        folder_path=os.path.join(folder_path,folder_name)\n",
    "        os.rmdir(folder_name) \n",
    "\n",
    "\n",
    "  "
   ]
  },
  {
   "cell_type": "code",
   "execution_count": 30,
   "metadata": {},
   "outputs": [],
   "source": [
    "os.chdir(r\"C:\\Users\\hp\\Desktop\\data_science\")"
   ]
  },
  {
   "cell_type": "code",
   "execution_count": 34,
   "metadata": {},
   "outputs": [
    {
     "name": "stdout",
     "output_type": "stream",
     "text": [
      "exception handled\n"
     ]
    }
   ],
   "source": [
    "try:\n",
    "    import os\n",
    "    import shutil\n",
    "    shutil.move(\"data\",\"assignment\")\n",
    "except:\n",
    "    print(\"exception handled\")\n",
    "    \n",
    "  "
   ]
  },
  {
   "cell_type": "code",
   "execution_count": null,
   "metadata": {},
   "outputs": [],
   "source": [
    "import os \n",
    "import shutil\n",
    "shutil.move"
   ]
  },
  {
   "cell_type": "code",
   "execution_count": null,
   "metadata": {},
   "outputs": [],
   "source": [
    "import os\n",
    "import shutil as sh\n",
    "for i in os.listdir(r\"C:\\Users\\hp\\Desktop\\data_science\\assignment\"):\n",
    "    if i.endswith(\".txt\"):\n",
    "      sh.move(r\"C:\\Users\\hp\\Desktop\\data_science\\assignment\\data\"+\"\\\\\"+i,r\"C:\\Users\\hp\\Dssignment\\pdf\"+\"\\\\\"+i)\n",
    "      \n",
    "    elif i.endswith(\".jpeg\") or i.endswith(\".jpeg\") or i.endswith(\".png\"):\n",
    "      sh.move(r\"C:\\Users\\hp\\Desktop\\data_science\\assignment\\data\"+\"\\\\\"+i,r\"C:\\Users\\hp\\Desktop\\data_science\\assignment\\image\"+\"\\\\\"+i)\n",
    "    elif i.endswith(\".pdf\"): \n",
    "      sh.move(r\"C:\\Users\\hp\\Desktop\\data_science\\assignment\\data\"+\"\\\\\"+i,r\"C:\\Users\\hp\\Desktop\\data_science\\assignment\\pdf\"+\"\\\\\"+i)\n"
   ]
  }
 ],
 "metadata": {
  "kernelspec": {
   "display_name": "Python 3",
   "language": "python",
   "name": "python3"
  },
  "language_info": {
   "codemirror_mode": {
    "name": "ipython",
    "version": 3
   },
   "file_extension": ".py",
   "mimetype": "text/x-python",
   "name": "python",
   "nbconvert_exporter": "python",
   "pygments_lexer": "ipython3",
   "version": "3.12.4"
  }
 },
 "nbformat": 4,
 "nbformat_minor": 2
}
