{
 "cells": [
  {
   "cell_type": "markdown",
   "metadata": {},
   "source": [
    "# OBJECT ORIENTED PROGRAMMING"
   ]
  },
  {
   "cell_type": "code",
   "execution_count": null,
   "metadata": {},
   "outputs": [],
   "source": [
    "#  CLASS AND OBJECT\n",
    "# class is a blue print\n",
    "# object is a instance of a class"
   ]
  },
  {
   "cell_type": "code",
   "execution_count": 4,
   "metadata": {},
   "outputs": [],
   "source": [
    "# CLASS CREATION\n",
    "class Idol:\n",
    "    name=[\"kim namjoon\",\"kim seok jin\",\"min yoongi\",\"jung heo suk\",\"park jimin\",\"kim tae hyung\",\"jeon jungkook\"]\n",
    "    team=\"BTS\"\n",
    "    company=\"HYBE entertainment\""
   ]
  },
  {
   "cell_type": "code",
   "execution_count": 5,
   "metadata": {},
   "outputs": [
    {
     "name": "stdout",
     "output_type": "stream",
     "text": [
      "['kim namjoon', 'kim seok jin', 'min yoongi', 'jung heo suk', 'park jimin', 'kim tae hyung', 'jeon jungkook']\n"
     ]
    }
   ],
   "source": [
    "# OBJECT CREATION\n",
    "idol_object=Idol()\n",
    "print(idol_object.name)"
   ]
  },
  {
   "cell_type": "code",
   "execution_count": 18,
   "metadata": {},
   "outputs": [],
   "source": [
    "# REASSIGNMENT OF VALUE TO VARIABLE\n",
    "idol_object.team=\"Bangtan syoneondan\""
   ]
  },
  {
   "cell_type": "code",
   "execution_count": 19,
   "metadata": {},
   "outputs": [
    {
     "name": "stdout",
     "output_type": "stream",
     "text": [
      "Bangtan syoneondan\n"
     ]
    }
   ],
   "source": [
    "print(idol_object.team)"
   ]
  },
  {
   "cell_type": "code",
   "execution_count": 40,
   "metadata": {},
   "outputs": [],
   "source": [
    "# NEW CLASS\n",
    "class ListFunction:\n",
    "    ls=[34,65,87,34,98,44]\n",
    "    # method in class and function outside the class\n",
    "    # self is a compulsory keyword that should be in parameter in function definition\n",
    "    # self keyword holds the address of the object \n",
    "    def len_finder(self):\n",
    "        count=0\n",
    "        for i in self.ls:\n",
    "            count+=1\n",
    "        print(\"Total number in list are:\",count)\n",
    "        \n",
    "    # Find average \n",
    "    def avg_finder(self):\n",
    "        avg=0\n",
    "        sum=0\n",
    "        lenght=0\n",
    "        for i in self.ls:\n",
    "            lenght+=1\n",
    "        print(\"Lenght of list is:\",lenght)\n",
    "        for i in self.ls:\n",
    "            sum+=i\n",
    "        avg=sum/lenght\n",
    "        print(\"Average is :\",round(avg,2)) \n",
    "           \n",
    "    #  Find average of even numbers\n",
    "    def avg_even(self):\n",
    "        avg=0\n",
    "        sum=0\n",
    "        lenght=0\n",
    "        for i in self.ls:\n",
    "            lenght+=1\n",
    "        print(\"Lenght of list is:\",lenght)\n",
    "        for i in self.ls:\n",
    "            if i%2==0:\n",
    "             sum+=i\n",
    "        avg=sum/lenght\n",
    "        print(\"Average is :\",round(avg,2))\n",
    "     \n",
    "    # Find average of odd numbers\n",
    "    ls = [25,41,63,85,74,96,112,113,117,75,963,42,14,52,77,88,55,66,33,22,11,44,55,88,99,66,74,52,1]\n",
    "    def avg_odd(self):\n",
    "        avg=0\n",
    "        sum=0\n",
    "        lenght=0\n",
    "        for i in self.ls:\n",
    "            lenght+=1\n",
    "        print(\"Lenght of list is:\",lenght)\n",
    "        for i in self.ls:\n",
    "            if i%2!=0:\n",
    "             sum+=i\n",
    "        avg=sum/lenght\n",
    "        print(\"Average is :\",round(avg,2))  \n",
    "           \n",
    "    # Calculate average for numbers btw 0 to 50\n",
    "    def average(self):\n",
    "        avg=0\n",
    "        sum=0\n",
    "        lenght=0\n",
    "        for i in self.ls:\n",
    "            if i>=0 and i<=50:\n",
    "             lenght+=1\n",
    "        print(\"Lenght of list is:\",lenght)\n",
    "        for i in self.ls:\n",
    "            if i%2==0:\n",
    "             sum+=i\n",
    "        avg=sum/lenght\n",
    "        print(\"Average is :\",round(avg,2)) \n",
    "        \n",
    "    # Calculate average for  even numbers btw 50 to 100 \n",
    "    def average_even(self):\n",
    "        avg=0\n",
    "        sum=0\n",
    "        lenght=0\n",
    "        for i in self.ls:\n",
    "            if i>=50 and i<=100 and i%2==0:\n",
    "             lenght+=1\n",
    "        print(\"Lenght of list is:\",lenght)\n",
    "        for i in self.ls:\n",
    "            if i%2==0:\n",
    "             sum+=i\n",
    "        avg=sum/lenght\n",
    "        print(\"Average is :\",round(avg,2))       \n",
    "        \n",
    "         "
   ]
  },
  {
   "cell_type": "code",
   "execution_count": 41,
   "metadata": {},
   "outputs": [
    {
     "name": "stdout",
     "output_type": "stream",
     "text": [
      "Total number in list are: 29\n",
      "Lenght of list is: 29\n",
      "Average is : 93.21\n",
      "Lenght of list is: 29\n",
      "Average is : 30.69\n",
      "Lenght of list is: 29\n",
      "Average is : 62.52\n",
      "Lenght of list is: 9\n",
      "Average is : 98.89\n",
      "Lenght of list is: 9\n",
      "Average is : 98.89\n"
     ]
    }
   ],
   "source": [
    "# object of above class\n",
    "object=ListFunction()\n",
    "object.ls\n",
    "object.len_finder()\n",
    "object.avg_finder()\n",
    "object.avg_even()\n",
    "object.avg_odd()\n",
    "object.average()\n",
    "object.average_even()"
   ]
  },
  {
   "cell_type": "markdown",
   "metadata": {},
   "source": [
    "# CONSTRUCTOR"
   ]
  },
  {
   "cell_type": "code",
   "execution_count": 65,
   "metadata": {},
   "outputs": [],
   "source": [
    "# __init__  ---> constructor name \n",
    "#  if changes is made for any object then there will be no effect on other objects and class\n",
    "\n",
    "class Student:\n",
    "    # class variable\n",
    "    name=\"Vanshika\"\n",
    "    \n",
    "    # CONSTRUCTOR\n",
    "    def __init__(self):\n",
    "        #  instance variable\n",
    "        self.student_name=\"Shalu\"\n",
    "        self.branch=\"CSE\"\n",
    "        self.college=\"GWECA\"\n",
    "        print(\"I am executed\")\n",
    "        \n",
    "    def __init__ (self,name,student_branch,student_college):\n",
    "        self.student_name=name\n",
    "        self.branch=student_branch\n",
    "        self.college=student_college\n",
    "        print(name,\n",
    "        student_branch,\n",
    "        student_college)\n",
    "        \n",
    "    \n",
    "\n"
   ]
  },
  {
   "cell_type": "code",
   "execution_count": 61,
   "metadata": {},
   "outputs": [
    {
     "name": "stdout",
     "output_type": "stream",
     "text": [
      "I am executed\n",
      "I am executed\n"
     ]
    }
   ],
   "source": [
    "obj1=Student()\n",
    "obj2=Student()"
   ]
  },
  {
   "cell_type": "code",
   "execution_count": 51,
   "metadata": {},
   "outputs": [
    {
     "data": {
      "text/plain": [
       "'Shalu'"
      ]
     },
     "execution_count": 51,
     "metadata": {},
     "output_type": "execute_result"
    }
   ],
   "source": [
    "obj1.student_name"
   ]
  },
  {
   "cell_type": "code",
   "execution_count": 52,
   "metadata": {},
   "outputs": [
    {
     "data": {
      "text/plain": [
       "'Vanshika'"
      ]
     },
     "execution_count": 52,
     "metadata": {},
     "output_type": "execute_result"
    }
   ],
   "source": [
    "Student.name"
   ]
  },
  {
   "cell_type": "code",
   "execution_count": 53,
   "metadata": {},
   "outputs": [
    {
     "data": {
      "text/plain": [
       "'sun jae '"
      ]
     },
     "execution_count": 53,
     "metadata": {},
     "output_type": "execute_result"
    }
   ],
   "source": [
    "obj1.name=\"sun jae \"\n",
    "obj1.name"
   ]
  },
  {
   "cell_type": "code",
   "execution_count": 55,
   "metadata": {},
   "outputs": [
    {
     "data": {
      "text/plain": [
       "'Vanshika'"
      ]
     },
     "execution_count": 55,
     "metadata": {},
     "output_type": "execute_result"
    }
   ],
   "source": [
    "obj2.name"
   ]
  },
  {
   "cell_type": "code",
   "execution_count": 57,
   "metadata": {},
   "outputs": [
    {
     "data": {
      "text/plain": [
       "'AIML'"
      ]
     },
     "execution_count": 57,
     "metadata": {},
     "output_type": "execute_result"
    }
   ],
   "source": [
    "Student.branch=\"AIML\"\n",
    "Student.branch"
   ]
  },
  {
   "cell_type": "code",
   "execution_count": 59,
   "metadata": {},
   "outputs": [
    {
     "data": {
      "text/plain": [
       "'CSE'"
      ]
     },
     "execution_count": 59,
     "metadata": {},
     "output_type": "execute_result"
    }
   ],
   "source": [
    "obj1.branch"
   ]
  },
  {
   "cell_type": "code",
   "execution_count": 68,
   "metadata": {},
   "outputs": [
    {
     "name": "stdout",
     "output_type": "stream",
     "text": [
      "vanshika CSE GWECA\n"
     ]
    }
   ],
   "source": [
    "obj3=Student(name=\"vanshika\",student_branch=\"CSE\",student_college=\"GWECA\")"
   ]
  },
  {
   "cell_type": "code",
   "execution_count": 69,
   "metadata": {},
   "outputs": [
    {
     "name": "stdout",
     "output_type": "stream",
     "text": [
      "shalu AIML IIT\n"
     ]
    }
   ],
   "source": [
    "obj4=Student(name=\"shalu\",student_branch=\"AIML\",student_college=\"IIT\")"
   ]
  },
  {
   "cell_type": "code",
   "execution_count": 6,
   "metadata": {},
   "outputs": [],
   "source": [
    "# 2 classes with constructors and instance variable ,multiple objects , acesss and manupilate them ,show_info() to print all instance variable\n",
    "class Employee:\n",
    "      employee_name=\"vansh\"\n",
    "    \n",
    "      def __init__(self,name,sal,dept):\n",
    "        self.emp_name=name   \n",
    "        self.emp_salary=sal\n",
    "        self.emp_dept=dept\n",
    "      def show_info(self):\n",
    "          print(self.emp_name,self.emp_salary,self.emp_dept)\n"
   ]
  },
  {
   "cell_type": "code",
   "execution_count": 7,
   "metadata": {},
   "outputs": [
    {
     "name": "stdout",
     "output_type": "stream",
     "text": [
      "shalu 60000 ML\n",
      "vanshika 50000 AI\n"
     ]
    }
   ],
   "source": [
    "obj1=Employee(\"shalu\",60000,\"ML\")\n",
    "obj1.show_info()\n",
    "\n",
    "\n",
    "obj2=Employee(\"vanshika\",50000,\"AI\")\n",
    "obj2.show_info()"
   ]
  },
  {
   "cell_type": "code",
   "execution_count": 11,
   "metadata": {},
   "outputs": [
    {
     "name": "stdout",
     "output_type": "stream",
     "text": [
      "vanshi 60000 ML\n"
     ]
    }
   ],
   "source": [
    "obj1.emp_name=\"vanshi\"\n",
    "obj1.show_info()"
   ]
  },
  {
   "cell_type": "code",
   "execution_count": 17,
   "metadata": {},
   "outputs": [
    {
     "data": {
      "text/plain": [
       "60000"
      ]
     },
     "execution_count": 17,
     "metadata": {},
     "output_type": "execute_result"
    }
   ],
   "source": [
    "obj1.emp_salary"
   ]
  },
  {
   "cell_type": "code",
   "execution_count": 18,
   "metadata": {},
   "outputs": [
    {
     "data": {
      "text/plain": [
       "'AI'"
      ]
     },
     "execution_count": 18,
     "metadata": {},
     "output_type": "execute_result"
    }
   ],
   "source": [
    "obj2.emp_dept"
   ]
  },
  {
   "cell_type": "code",
   "execution_count": 21,
   "metadata": {},
   "outputs": [],
   "source": [
    "class Student:\n",
    "    college_name=\"GWECA\"\n",
    "    def __init__(self,name,branch,ls_of_subject):\n",
    "        self.student_name=name \n",
    "        self.branch=branch\n",
    "        self.subject=ls_of_subject\n",
    "    \n",
    "        # instance method \n",
    "    def display(self):\n",
    "        print(\"My name is \",self.student_name, \". My branch is \",\n",
    "        self.branch,\". My subjects are \",\n",
    "        self.subject,\".\") \n",
    "        print(\"My college name is \",self.college_name,\".\")\n",
    "     \n",
    "    @ classmethod   #decorator\n",
    "    def display2(cls):\n",
    "        print(\"My college name is \",cls.college_name,\".\")       "
   ]
  },
  {
   "cell_type": "code",
   "execution_count": 22,
   "metadata": {},
   "outputs": [
    {
     "name": "stdout",
     "output_type": "stream",
     "text": [
      "My name is  vanshika . My branch is  CSE . My subjects are  ['math', 'physics', 'chemistry'] .\n",
      "My college name is  GWECA .\n"
     ]
    }
   ],
   "source": [
    "obj=Student(name=\"vanshika\",branch=\"CSE\",ls_of_subject=[\"math\",\"physics\",\"chemistry\"])\n",
    "obj.display()"
   ]
  },
  {
   "cell_type": "code",
   "execution_count": 23,
   "metadata": {},
   "outputs": [
    {
     "name": "stdout",
     "output_type": "stream",
     "text": [
      "My college name is  GWECA .\n"
     ]
    }
   ],
   "source": [
    "# we can not call instance method from class name\n",
    "#  Student.display()\n",
    "obj.display2()"
   ]
  },
  {
   "cell_type": "code",
   "execution_count": 24,
   "metadata": {},
   "outputs": [
    {
     "name": "stdout",
     "output_type": "stream",
     "text": [
      "My college name is  GWECA .\n"
     ]
    }
   ],
   "source": [
    "Student.display2()    # calling class  method by using class name"
   ]
  },
  {
   "cell_type": "code",
   "execution_count": 25,
   "metadata": {},
   "outputs": [
    {
     "name": "stdout",
     "output_type": "stream",
     "text": [
      "My college name is  GWECA .\n"
     ]
    }
   ],
   "source": [
    "# instance method can be called only by object not by class name \n",
    "#  class method can be called by object and class name also\n",
    "obj.display2()"
   ]
  },
  {
   "cell_type": "code",
   "execution_count": 26,
   "metadata": {},
   "outputs": [],
   "source": [
    "# static method\n",
    "class A:\n",
    "    @staticmethod\n",
    "    def display3():\n",
    "        print(\"We are going to jaipur tomorrow\")\n"
   ]
  },
  {
   "cell_type": "code",
   "execution_count": 27,
   "metadata": {},
   "outputs": [
    {
     "name": "stdout",
     "output_type": "stream",
     "text": [
      "We are going to jaipur tomorrow\n"
     ]
    }
   ],
   "source": [
    "A.display3()"
   ]
  },
  {
   "cell_type": "markdown",
   "metadata": {},
   "source": [
    "## INHERITANCE \n",
    " inheritance,polymorphism,abstraction,encapsulation"
   ]
  },
  {
   "cell_type": "code",
   "execution_count": 31,
   "metadata": {},
   "outputs": [],
   "source": [
    "# SINGLE INHERITANCE WITH CONSTRUCTOR\n",
    "class Faculty:\n",
    "    college=\"GWECA\"\n",
    "    total_staff=200\n",
    "    \n",
    "class Student (Faculty):\n",
    "    total_student=5000\n",
    "    branch=\"CSE\""
   ]
  },
  {
   "cell_type": "code",
   "execution_count": 32,
   "metadata": {},
   "outputs": [
    {
     "data": {
      "text/plain": [
       "'GWECA'"
      ]
     },
     "execution_count": 32,
     "metadata": {},
     "output_type": "execute_result"
    }
   ],
   "source": [
    "f_obj=Faculty()\n",
    "f_obj.college"
   ]
  },
  {
   "cell_type": "code",
   "execution_count": 33,
   "metadata": {},
   "outputs": [
    {
     "data": {
      "text/plain": [
       "'CSE'"
      ]
     },
     "execution_count": 33,
     "metadata": {},
     "output_type": "execute_result"
    }
   ],
   "source": [
    "s_obj=Student()\n",
    "s_obj.branch"
   ]
  },
  {
   "cell_type": "code",
   "execution_count": 34,
   "metadata": {},
   "outputs": [
    {
     "data": {
      "text/plain": [
       "'GWECA'"
      ]
     },
     "execution_count": 34,
     "metadata": {},
     "output_type": "execute_result"
    }
   ],
   "source": [
    "s_obj.college"
   ]
  },
  {
   "cell_type": "code",
   "execution_count": 35,
   "metadata": {},
   "outputs": [
    {
     "data": {
      "text/plain": [
       "200"
      ]
     },
     "execution_count": 35,
     "metadata": {},
     "output_type": "execute_result"
    }
   ],
   "source": [
    "s_obj.total_staff"
   ]
  },
  {
   "cell_type": "code",
   "execution_count": 36,
   "metadata": {},
   "outputs": [
    {
     "data": {
      "text/plain": [
       "200"
      ]
     },
     "execution_count": 36,
     "metadata": {},
     "output_type": "execute_result"
    }
   ],
   "source": [
    "Student.total_staff"
   ]
  },
  {
   "cell_type": "code",
   "execution_count": 37,
   "metadata": {},
   "outputs": [
    {
     "data": {
      "text/plain": [
       "200"
      ]
     },
     "execution_count": 37,
     "metadata": {},
     "output_type": "execute_result"
    }
   ],
   "source": [
    "Faculty.total_staff"
   ]
  },
  {
   "cell_type": "code",
   "execution_count": 38,
   "metadata": {},
   "outputs": [
    {
     "data": {
      "text/plain": [
       "200"
      ]
     },
     "execution_count": 38,
     "metadata": {},
     "output_type": "execute_result"
    }
   ],
   "source": [
    "f_obj.total_staff"
   ]
  },
  {
   "cell_type": "code",
   "execution_count": 85,
   "metadata": {},
   "outputs": [],
   "source": [
    "# SINGLE INHERTANCE WITH CONSTRUCTOR\n",
    "class Father:\n",
    "    def __init__(self,color,ht):\n",
    "        self.eyes_color=color\n",
    "        self.height=ht\n",
    "        print(\" constructor of father class is executed\")\n",
    "    def Father_hii(self): \n",
    "        print(self.eyes_color,self.height)\n",
    "           \n",
    "class Son(Father):\n",
    "    def __init__(self,name,age,color,ht):\n",
    "        self.son_name=name\n",
    "        self.son_age=age\n",
    "        super().__init__(color,ht)   # super keyword to access base class constructor\n",
    "        print(\" constructor of son class is executed\")\n",
    "        \n",
    "    def Son_hii(self):\n",
    "        print(self.son_name,self.son_age)\n",
    "        \n",
    "      "
   ]
  },
  {
   "cell_type": "code",
   "execution_count": 82,
   "metadata": {},
   "outputs": [
    {
     "name": "stdout",
     "output_type": "stream",
     "text": [
      " constructor of father class is executed\n",
      "black 5.9\n"
     ]
    }
   ],
   "source": [
    "f_obj=Father(color=\"black\",ht=5.9)\n",
    "f_obj.Father_hii()"
   ]
  },
  {
   "cell_type": "code",
   "execution_count": 88,
   "metadata": {},
   "outputs": [
    {
     "name": "stdout",
     "output_type": "stream",
     "text": [
      " constructor of father class is executed\n",
      " constructor of son class is executed\n",
      "raju 25\n",
      "black 5.9\n"
     ]
    }
   ],
   "source": [
    "s_obj=Son(name=\"raju\",age=\"25\",color=\"black\",ht=5.9)\n",
    "s_obj.Son_hii()\n",
    "s_obj.Father_hii()\n",
    "\n"
   ]
  },
  {
   "cell_type": "code",
   "execution_count": 89,
   "metadata": {},
   "outputs": [],
   "source": [
    "class Manager:\n",
    "    def __init__(self,name,dept):\n",
    "        self.manager_name=name \n",
    "        self.manager_dept=dept\n",
    "    def show(self):\n",
    "        print(self.manager_dept,self.manager_name)    \n",
    "        \n",
    "class Employee(Manager):\n",
    "      def __init__(self,name,sal,dept,age):\n",
    "        self.emp_age=age\n",
    "        self.emp_salary=sal\n",
    "        super().__init__(name,dept)\n",
    "      def show_info(self):\n",
    "          print(self.emp_age,self.emp_salary)"
   ]
  },
  {
   "cell_type": "code",
   "execution_count": 94,
   "metadata": {},
   "outputs": [
    {
     "name": "stdout",
     "output_type": "stream",
     "text": [
      "54 50000\n",
      "CSE shalu\n"
     ]
    }
   ],
   "source": [
    "obj=Employee(age=54,sal=50000,name=\"shalu\",dept=\"CSE\")\n",
    "obj.show_info()\n",
    "obj.show()"
   ]
  },
  {
   "cell_type": "markdown",
   "metadata": {},
   "source": [
    "### PRACTICE "
   ]
  },
  {
   "cell_type": "code",
   "execution_count": 22,
   "metadata": {},
   "outputs": [],
   "source": [
    "class Myself:\n",
    "    name=\"vanshika\"\n",
    "    age=20\n",
    "    branch=\"CSE\"\n",
    "    \n",
    "    def __init__(self,college,year):\n",
    "        self.my_college=college\n",
    "        self.my_year=year\n",
    "         \n",
    "    def display(self):\n",
    "        print(self.name,self.age,self.branch,self.my_college,self.my_year)"
   ]
  },
  {
   "cell_type": "code",
   "execution_count": 17,
   "metadata": {},
   "outputs": [],
   "source": [
    "obj=Myself()"
   ]
  },
  {
   "cell_type": "code",
   "execution_count": 3,
   "metadata": {},
   "outputs": [
    {
     "data": {
      "text/plain": [
       "'vanshika'"
      ]
     },
     "execution_count": 3,
     "metadata": {},
     "output_type": "execute_result"
    }
   ],
   "source": [
    "obj.name"
   ]
  },
  {
   "cell_type": "code",
   "execution_count": 4,
   "metadata": {},
   "outputs": [
    {
     "data": {
      "text/plain": [
       "'vanshika'"
      ]
     },
     "execution_count": 4,
     "metadata": {},
     "output_type": "execute_result"
    }
   ],
   "source": [
    "Myself.name"
   ]
  },
  {
   "cell_type": "code",
   "execution_count": 9,
   "metadata": {},
   "outputs": [
    {
     "name": "stdout",
     "output_type": "stream",
     "text": [
      "vanshika 20 CSE\n"
     ]
    }
   ],
   "source": [
    "obj.display()"
   ]
  },
  {
   "cell_type": "code",
   "execution_count": 18,
   "metadata": {},
   "outputs": [
    {
     "data": {
      "text/plain": [
       "'2nd year'"
      ]
     },
     "execution_count": 18,
     "metadata": {},
     "output_type": "execute_result"
    }
   ],
   "source": [
    "obj.year"
   ]
  },
  {
   "cell_type": "code",
   "execution_count": 23,
   "metadata": {},
   "outputs": [],
   "source": [
    "obj=Myself(college=\"gweca\",year=\"2nd\")"
   ]
  },
  {
   "cell_type": "code",
   "execution_count": 24,
   "metadata": {},
   "outputs": [
    {
     "name": "stdout",
     "output_type": "stream",
     "text": [
      "vanshika 20 CSE gweca 2nd\n"
     ]
    }
   ],
   "source": [
    "obj.display()"
   ]
  },
  {
   "cell_type": "code",
   "execution_count": 25,
   "metadata": {},
   "outputs": [],
   "source": [
    "obj.name=\"shalu\""
   ]
  },
  {
   "cell_type": "code",
   "execution_count": 26,
   "metadata": {},
   "outputs": [
    {
     "name": "stdout",
     "output_type": "stream",
     "text": [
      "shalu 20 CSE gweca 2nd\n"
     ]
    }
   ],
   "source": [
    "obj.display()"
   ]
  }
 ],
 "metadata": {
  "kernelspec": {
   "display_name": "Python 3",
   "language": "python",
   "name": "python3"
  },
  "language_info": {
   "codemirror_mode": {
    "name": "ipython",
    "version": 3
   },
   "file_extension": ".py",
   "mimetype": "text/x-python",
   "name": "python",
   "nbconvert_exporter": "python",
   "pygments_lexer": "ipython3",
   "version": "3.12.4"
  }
 },
 "nbformat": 4,
 "nbformat_minor": 2
}
