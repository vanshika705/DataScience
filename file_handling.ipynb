{
 "cells": [
  {
   "cell_type": "code",
   "execution_count": 1,
   "metadata": {},
   "outputs": [
    {
     "name": "stdout",
     "output_type": "stream",
     "text": [
      "hello world \n"
     ]
    }
   ],
   "source": [
    "print(\"hello world \")"
   ]
  },
  {
   "cell_type": "code",
   "execution_count": 2,
   "metadata": {},
   "outputs": [
    {
     "name": "stdout",
     "output_type": "stream",
     "text": [
      "hii\n"
     ]
    }
   ],
   "source": [
    "print(\"hii\")"
   ]
  },
  {
   "cell_type": "markdown",
   "metadata": {},
   "source": [
    "<p>  file handling <br>\n",
    "  read and write from files <br>\n",
    "   whatsapp messages are write in some file  like Inbox.txt<br>\n",
    "  youtube comments in database or file<br>\n",
    "  open(filename or filepath , mode)<br>\n",
    "  mode ---> r,w,a,x,b<br>\n",
    "  by default read mode</p>\n",
    " "
   ]
  },
  {
   "cell_type": "code",
   "execution_count": 4,
   "metadata": {},
   "outputs": [
    {
     "name": "stdout",
     "output_type": "stream",
     "text": [
      "Hello we are from upflairs.\n",
      "\n"
     ]
    }
   ],
   "source": [
    "file = open(\"demo.txt\",\"r\")   \n",
    "data= file.read()\n",
    "print(data)\n",
    "file.close()"
   ]
  },
  {
   "cell_type": "code",
   "execution_count": null,
   "metadata": {},
   "outputs": [],
   "source": [
    "# file handling + os module \n",
    "# oop\n",
    "# import os\n",
    "\n"
   ]
  },
  {
   "cell_type": "code",
   "execution_count": 6,
   "metadata": {},
   "outputs": [
    {
     "data": {
      "text/plain": [
       "['.vscode',\n",
       " 'A.py',\n",
       " 'atm.py',\n",
       " 'B.py',\n",
       " 'day2.py',\n",
       " 'day3.py',\n",
       " 'day4.py',\n",
       " 'day5.py',\n",
       " 'day6.py',\n",
       " 'day7.py',\n",
       " 'demo.txt',\n",
       " 'file_handling.ipynb',\n",
       " 'first.py',\n",
       " 'logic.py',\n",
       " 'quiz1.py',\n",
       " 'quiz2.py',\n",
       " 'solve.py',\n",
       " 'sort.py',\n",
       " '__pycache__']"
      ]
     },
     "execution_count": 6,
     "metadata": {},
     "output_type": "execute_result"
    }
   ],
   "source": [
    "import os\n",
    "os.listdir()\n"
   ]
  },
  {
   "cell_type": "code",
   "execution_count": 7,
   "metadata": {},
   "outputs": [],
   "source": [
    "os.mkdir(\"shalu\")"
   ]
  },
  {
   "cell_type": "code",
   "execution_count": 8,
   "metadata": {},
   "outputs": [],
   "source": [
    "os.rmdir(\"shalu\")"
   ]
  },
  {
   "cell_type": "code",
   "execution_count": 10,
   "metadata": {},
   "outputs": [
    {
     "name": "stdout",
     "output_type": "stream",
     "text": [
      "your file is already exists\n"
     ]
    }
   ],
   "source": [
    "try:\n",
    "    os.mkdir(\"shalu\")\n",
    "except FileExistsError:\n",
    "    print(\"your file is already exists\")    "
   ]
  },
  {
   "cell_type": "code",
   "execution_count": 12,
   "metadata": {},
   "outputs": [],
   "source": [
    "os.makedirs(\"shalu\",exist_ok=True)"
   ]
  },
  {
   "cell_type": "code",
   "execution_count": 13,
   "metadata": {},
   "outputs": [],
   "source": [
    "# file_handling\n",
    "# file can not be deleted if it is open , first close it and than delete it\n",
    "# file data can be read only once at a time"
   ]
  },
  {
   "cell_type": "code",
   "execution_count": 15,
   "metadata": {},
   "outputs": [
    {
     "name": "stdout",
     "output_type": "stream",
     "text": [
      "Hello we a\n"
     ]
    }
   ],
   "source": [
    "file=open(\"demo.txt\",\"r\")\n",
    "print(file.read(10))"
   ]
  },
  {
   "cell_type": "code",
   "execution_count": 16,
   "metadata": {},
   "outputs": [
    {
     "name": "stdout",
     "output_type": "stream",
     "text": [
      "re from up\n"
     ]
    }
   ],
   "source": [
    "print(file.read(10))"
   ]
  },
  {
   "cell_type": "code",
   "execution_count": 17,
   "metadata": {},
   "outputs": [
    {
     "name": "stdout",
     "output_type": "stream",
     "text": [
      "flairs.\n",
      "\n"
     ]
    }
   ],
   "source": [
    "print(file.read(10))"
   ]
  },
  {
   "cell_type": "code",
   "execution_count": 21,
   "metadata": {},
   "outputs": [],
   "source": [
    "# write mode\n",
    "file=open(\"demo2.txt\",\"w\")\n",
    "message=\"hello we are kdrama fans \"\n",
    "file.write(message)\n",
    "file.close()"
   ]
  },
  {
   "cell_type": "code",
   "execution_count": 32,
   "metadata": {},
   "outputs": [],
   "source": [
    "file=open(\"demo2.txt\",\"a\")\n",
    "message=\"Anyeong, nae ireumen vanshika imnida .  \"\n",
    "file.write(message)\n",
    "file.close()"
   ]
  },
  {
   "cell_type": "code",
   "execution_count": 33,
   "metadata": {},
   "outputs": [],
   "source": [
    "file=open(\"demo2.txt\",\"a\")\n",
    "message=\" Urineun kdramawa kpop pean imnida .  \"\n",
    "file.write(\"\\n\"+message)\n",
    "file.close()"
   ]
  },
  {
   "cell_type": "code",
   "execution_count": 34,
   "metadata": {},
   "outputs": [],
   "source": [
    "file=open(\"demo4.txt\",\"a\")\n",
    "for i in range(1,100):\n",
    "    message=\"upflairs\"\n",
    "    file.write(\"\\n\"+message)\n",
    "file.close()    \n"
   ]
  },
  {
   "cell_type": "code",
   "execution_count": 23,
   "metadata": {},
   "outputs": [],
   "source": [
    "# x mode\n",
    "file=open(\"demo3.txt\",\"x\")\n",
    "file.close()"
   ]
  },
  {
   "cell_type": "code",
   "execution_count": null,
   "metadata": {},
   "outputs": [],
   "source": [
    "# binary mode"
   ]
  },
  {
   "cell_type": "code",
   "execution_count": 50,
   "metadata": {},
   "outputs": [
    {
     "name": "stdout",
     "output_type": "stream",
     "text": [
      "upflairs \n",
      "upflairs \n",
      "upflairs \n",
      "upflairs \n",
      "upflairs \n",
      "upflairs \n",
      "upflairs \n",
      "upflairs \n",
      "upflairs \n",
      "upflairs \n",
      "upflairs \n",
      "upflairs \n",
      "upflairs \n",
      "upflairs \n",
      "upflairs \n",
      "upflairs \n",
      "upflairs \n",
      "upflairs \n",
      "upflairs \n",
      "upflairs \n",
      "upflairs \n",
      "upflairs \n",
      "upflairs \n",
      "upflairs \n",
      "upflairs \n",
      "upflairs \n",
      "upflairs \n",
      "upflairs \n",
      "upflairs \n",
      "upflairs \n",
      "upflairs \n",
      "upflairs \n",
      "upflairs \n",
      "upflairs \n",
      "upflairs \n",
      "upflairs \n",
      "upflairs \n",
      "upflairs \n",
      "upflairs \n",
      "upflairs \n",
      "upflairs \n",
      "upflairs \n",
      "upflairs \n",
      "upflairs \n",
      "upflairs \n",
      "upflairs \n",
      "upflairs \n",
      "upflairs \n",
      "upflairs \n",
      "upflairs \n",
      "upflairs \n",
      "upflairs \n",
      "upflairs \n",
      "upflairs \n",
      "upflairs \n",
      "upflairs \n",
      "upflairs \n",
      "upflairs \n",
      "upflairs \n",
      "upflairs \n",
      "upflairs \n",
      "upflairs \n",
      "upflairs \n",
      "upflairs \n",
      "upflairs \n",
      "upflairs \n",
      "upflairs \n",
      "upflairs \n",
      "upflairs \n",
      "upflairs \n",
      "upflairs \n",
      "upflairs \n",
      "upflairs \n",
      "upflairs \n",
      "upflairs \n",
      "upflairs \n",
      "upflairs \n",
      "upflairs \n",
      "upflairs \n",
      "upflairs \n",
      "upflairs \n",
      "upflairs \n",
      "upflairs \n",
      "upflairs \n",
      "upflairs \n",
      "upflairs \n",
      "upflairs \n",
      "upflairs \n",
      "upflairs \n",
      "upflairs \n",
      "upflairs \n",
      "upflairs \n",
      "upflairs \n",
      "upflairs \n",
      "upflairs \n",
      "upflairs \n",
      "upflairs \n",
      "upflairs \n",
      "upflairs \n",
      "upflairs \n"
     ]
    }
   ],
   "source": [
    "# no need to close file \n",
    "with open(\"demo4.txt\",\"r\") as file:\n",
    "    content = file.read()\n",
    "    print(content)"
   ]
  },
  {
   "cell_type": "code",
   "execution_count": 69,
   "metadata": {},
   "outputs": [
    {
     "name": "stdout",
     "output_type": "stream",
     "text": [
      "['upflairs \\n', 'upflairs \\n', 'upflairs \\n', 'upflairs \\n', 'upflairs \\n', 'upflairs \\n', 'upflairs \\n', 'upflairs \\n', 'upflairs \\n', 'upflairs \\n', 'upflairs \\n', 'upflairs \\n', 'upflairs \\n', 'upflairs \\n', 'upflairs \\n', 'upflairs \\n', 'upflairs \\n', 'upflairs \\n', 'upflairs \\n', 'upflairs \\n', 'upflairs \\n', 'upflairs \\n', 'upflairs \\n', 'upflairs \\n', 'upflairs \\n', 'upflairs \\n', 'upflairs \\n', 'upflairs \\n', 'upflairs \\n', 'upflairs \\n', 'upflairs \\n', 'upflairs \\n', 'upflairs \\n', 'upflairs \\n', 'upflairs \\n', 'upflairs \\n', 'upflairs \\n', 'upflairs \\n', 'upflairs \\n', 'upflairs \\n', 'upflairs \\n', 'upflairs \\n', 'upflairs \\n', 'upflairs \\n', 'upflairs \\n', 'upflairs \\n', 'upflairs \\n', 'upflairs \\n', 'upflairs \\n', 'upflairs \\n', 'upflairs \\n', 'upflairs \\n', 'upflairs \\n', 'upflairs \\n', 'upflairs \\n', 'upflairs \\n', 'upflairs \\n', 'upflairs \\n', 'upflairs \\n', 'upflairs \\n', 'upflairs \\n', 'upflairs \\n', 'upflairs \\n', 'upflairs \\n', 'upflairs \\n', 'upflairs \\n', 'upflairs \\n', 'upflairs \\n', 'upflairs \\n', 'upflairs \\n', 'upflairs \\n', 'upflairs \\n', 'upflairs \\n', 'upflairs \\n', 'upflairs \\n', 'upflairs \\n', 'upflairs \\n', 'upflairs \\n', 'upflairs \\n', 'upflairs \\n', 'upflairs \\n', 'upflairs \\n', 'upflairs \\n', 'upflairs \\n', 'upflairs \\n', 'upflairs \\n', 'upflairs \\n', 'upflairs \\n', 'upflairs \\n', 'upflairs \\n', 'upflairs \\n', 'upflairs \\n', 'upflairs \\n', 'upflairs \\n', 'upflairs \\n', 'upflairs \\n', 'upflairs \\n', 'upflairs \\n', 'upflairs \\n', 'upflairs ']\n",
      "100\n"
     ]
    }
   ],
   "source": [
    "with open(\"demo4.txt\",\"r\") as data:\n",
    "    content = data.readlines()\n",
    "    print(content)\n",
    "    print(len(content))\n"
   ]
  },
  {
   "cell_type": "code",
   "execution_count": 38,
   "metadata": {},
   "outputs": [
    {
     "data": {
      "text/plain": [
       "'c:\\\\Users\\\\hp\\\\Desktop\\\\data_science'"
      ]
     },
     "execution_count": 38,
     "metadata": {},
     "output_type": "execute_result"
    }
   ],
   "source": [
    "pwd"
   ]
  },
  {
   "cell_type": "code",
   "execution_count": 39,
   "metadata": {},
   "outputs": [],
   "source": [
    "os.chdir(\"shalu\")     #cd"
   ]
  },
  {
   "cell_type": "code",
   "execution_count": 40,
   "metadata": {},
   "outputs": [
    {
     "data": {
      "text/plain": [
       "'c:\\\\Users\\\\hp\\\\Desktop\\\\data_science\\\\shalu'"
      ]
     },
     "execution_count": 40,
     "metadata": {},
     "output_type": "execute_result"
    }
   ],
   "source": [
    "pwd"
   ]
  },
  {
   "cell_type": "code",
   "execution_count": 41,
   "metadata": {},
   "outputs": [
    {
     "data": {
      "text/plain": [
       "'c:\\\\Users\\\\hp\\\\Desktop\\\\data_science\\\\shalu'"
      ]
     },
     "execution_count": 41,
     "metadata": {},
     "output_type": "execute_result"
    }
   ],
   "source": [
    "os.getcwd()    #pwd"
   ]
  },
  {
   "cell_type": "code",
   "execution_count": 42,
   "metadata": {},
   "outputs": [
    {
     "data": {
      "text/plain": [
       "[]"
      ]
     },
     "execution_count": 42,
     "metadata": {},
     "output_type": "execute_result"
    }
   ],
   "source": [
    "os.listdir()"
   ]
  },
  {
   "cell_type": "code",
   "execution_count": 43,
   "metadata": {},
   "outputs": [],
   "source": [
    "os.chdir(\"c:\\\\Users\\\\hp\\\\Desktop\\\\data_science\")"
   ]
  },
  {
   "cell_type": "code",
   "execution_count": 44,
   "metadata": {},
   "outputs": [
    {
     "data": {
      "text/plain": [
       "'c:\\\\Users\\\\hp\\\\Desktop\\\\data_science'"
      ]
     },
     "execution_count": 44,
     "metadata": {},
     "output_type": "execute_result"
    }
   ],
   "source": [
    "pwd"
   ]
  },
  {
   "cell_type": "code",
   "execution_count": null,
   "metadata": {},
   "outputs": [],
   "source": [
    "# path or location or address\n",
    "# 1.absolute path--> full address of a file which is not present in current working directory\n",
    "# 2.relative path--> name of a file which is present in current folder/ current working directory\n",
    "# "
   ]
  },
  {
   "cell_type": "code",
   "execution_count": 55,
   "metadata": {},
   "outputs": [
    {
     "data": {
      "text/plain": [
       "True"
      ]
     },
     "execution_count": 55,
     "metadata": {},
     "output_type": "execute_result"
    }
   ],
   "source": [
    "os.path.exists(\"shalu\")"
   ]
  },
  {
   "cell_type": "code",
   "execution_count": 53,
   "metadata": {},
   "outputs": [],
   "source": [
    "if os.path.exists(\"vansh\"):\n",
    "    print(\"present\")\n",
    "else:\n",
    "    os.mkdir(\"vansh\")  "
   ]
  },
  {
   "cell_type": "code",
   "execution_count": 63,
   "metadata": {},
   "outputs": [
    {
     "name": "stderr",
     "output_type": "stream",
     "text": [
      "<>:2: SyntaxWarning: invalid escape sequence '\\c'\n",
      "<>:2: SyntaxWarning: invalid escape sequence '\\c'\n",
      "C:\\Users\\hp\\AppData\\Local\\Temp\\ipykernel_23912\\3974645956.py:2: SyntaxWarning: invalid escape sequence '\\c'\n",
      "  path1=\"D:\\coding\\Data Scientist\"\n"
     ]
    },
    {
     "data": {
      "text/plain": [
       "'D:\\\\coding\\\\Data Scientist\\\\datasets'"
      ]
     },
     "execution_count": 63,
     "metadata": {},
     "output_type": "execute_result"
    }
   ],
   "source": [
    "#  to join two path\n",
    "path1=\"D:\\coding\\Data Scientist\"\n",
    "path2=\"datasets\"\n",
    "complete_path1=path1+ \"\\\\\" +path2   # method 1\n",
    "complete_path1\n",
    "complete_path2=os.path.join(path1,path2)   # method 2\n",
    "complete_path2"
   ]
  },
  {
   "cell_type": "code",
   "execution_count": null,
   "metadata": {},
   "outputs": [],
   "source": [
    "# os .remove\n",
    "# import shutil\n",
    "# shutil.move()\n",
    "# shutil.copy()\n",
    "# shutil.rmtree()  ---> it will remove the folder from recycle bin too"
   ]
  },
  {
   "cell_type": "code",
   "execution_count": null,
   "metadata": {},
   "outputs": [],
   "source": [
    "# r-->raw string\n",
    "# source_path=r\"\"\n",
    "# destination_path=r\"\"\n",
    "# shutil(source_path,destination_path)"
   ]
  },
  {
   "cell_type": "code",
   "execution_count": null,
   "metadata": {},
   "outputs": [],
   "source": [
    "# assignment ---> folder\n",
    "# quiz.py ---> file is assignment folder\n",
    "# data ----> folder\n",
    "# data folder ---> demo.txt , hello.txt , .jpg,.png , .speg,.pdf(atlest 2)\n",
    "# program in quiz.py ---> code, three folder text, pdf, image and move images into image folder and so on \n",
    " \n",
    "\n"
   ]
  },
  {
   "cell_type": "code",
   "execution_count": 64,
   "metadata": {},
   "outputs": [
    {
     "name": "stdout",
     "output_type": "stream",
     "text": [
      "text file\n"
     ]
    }
   ],
   "source": [
    "a=\"demo.txt\"\n",
    "if a.split(\".\")[1]==\"txt\":\n",
    "    print(\"text file\")\n"
   ]
  },
  {
   "cell_type": "code",
   "execution_count": 67,
   "metadata": {},
   "outputs": [
    {
     "name": "stdout",
     "output_type": "stream",
     "text": [
      "text file\n"
     ]
    }
   ],
   "source": [
    "a=\"demo.txt\"\n",
    "if a.endswith(\".txt\"):\n",
    "    print(\"text file\")"
   ]
  },
  {
   "cell_type": "code",
   "execution_count": 68,
   "metadata": {},
   "outputs": [
    {
     "name": "stdout",
     "output_type": "stream",
     "text": [
      "upflairs\n",
      "<class 'str'>\n"
     ]
    }
   ],
   "source": [
    "#  OBJECT ORIENTED PROGRAMMING\n",
    "var=str(\"upflairs\")  # var is object of str class\n",
    "print(var)\n",
    "print(type(var))"
   ]
  }
 ],
 "metadata": {
  "kernelspec": {
   "display_name": "Python 3",
   "language": "python",
   "name": "python3"
  },
  "language_info": {
   "codemirror_mode": {
    "name": "ipython",
    "version": 3
   },
   "file_extension": ".py",
   "mimetype": "text/x-python",
   "name": "python",
   "nbconvert_exporter": "python",
   "pygments_lexer": "ipython3",
   "version": "3.12.4"
  }
 },
 "nbformat": 4,
 "nbformat_minor": 2
}
